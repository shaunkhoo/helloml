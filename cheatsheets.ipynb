{
 "cells": [
  {
   "cell_type": "markdown",
   "metadata": {},
   "source": [
    "# Python Syntax Cheatsheet"
   ]
  },
  {
   "cell_type": "code",
   "execution_count": null,
   "metadata": {},
   "outputs": [],
   "source": [
    "# A note\n",
    "'A string'\n",
    "['A', 'list', 'of', 'strings']\n",
    "\n",
    "variable_x = 1\n",
    "variable_y = 2"
   ]
  },
  {
   "cell_type": "code",
   "execution_count": 3,
   "metadata": {},
   "outputs": [
    {
     "name": "stdout",
     "output_type": "stream",
     "text": [
      "This is an output\n"
     ]
    }
   ],
   "source": [
    "print('This is an output')"
   ]
  },
  {
   "cell_type": "code",
   "execution_count": 2,
   "metadata": {},
   "outputs": [
    {
     "name": "stdout",
     "output_type": "stream",
     "text": [
      "Hello ML\n"
     ]
    }
   ],
   "source": [
    "def myfunction(string1, string2):\n",
    "    print(string1, string2)\n",
    "\n",
    "myfunction('Hello', 'ML')"
   ]
  },
  {
   "cell_type": "markdown",
   "metadata": {},
   "source": [
    "## Dealing with Errors\n",
    "\n",
    "If you run into errors, here are some helpful tips for fixing your code.\n",
    "\n",
    "**1. Don't panic.**\n",
    "\n",
    "   Don't be intimidated if you encounter errors. It's all part of the learning process!\n",
    "\n",
    "**2. Are you running code in the right order?**\n",
    "\n",
    "   See if you are running code out of the logical order. For example, data needs to be loaded before it can be cleaned. Data also needs to be cleaned before it can be used for model training.\n",
    "\n",
    "**3. Did you make a typo or use the wrong case?**\n",
    "\n",
    "   Programming is just like any other language. Typos or switching between uppercase and lowercase will affect how the machine reads your code.\n",
    "   \n",
    "\n",
    "**4. Are you giving the code what it needs?**\n",
    "\n",
    "   Even though we are helping machines be more intelligent, code still plays by strict rules. If you give a line of code something unexpected, it won't be able to function, and will give you an error.\n",
    "\n",
    "\n",
    "**5. Have fun with it!**\n",
    "\n",
    "   Once you get the basics down, programming is full of possibilities -- feel free to explore different combinations of features and models to get better performance!"
   ]
  },
  {
   "cell_type": "code",
   "execution_count": null,
   "metadata": {},
   "outputs": [],
   "source": []
  }
 ],
 "metadata": {
  "kernelspec": {
   "display_name": "Python 3",
   "language": "python",
   "name": "python3"
  },
  "language_info": {
   "codemirror_mode": {
    "name": "ipython",
    "version": 3
   },
   "file_extension": ".py",
   "mimetype": "text/x-python",
   "name": "python",
   "nbconvert_exporter": "python",
   "pygments_lexer": "ipython3",
   "version": "3.8.5"
  }
 },
 "nbformat": 4,
 "nbformat_minor": 2
}
